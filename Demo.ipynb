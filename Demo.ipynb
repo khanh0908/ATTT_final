{
 "cells": [
  {
   "cell_type": "code",
   "execution_count": 2,
   "metadata": {},
   "outputs": [
    {
     "name": "stdout",
     "output_type": "stream",
     "text": [
      "Collecting pycryptodome\n",
      "  Using cached pycryptodome-3.10.1-cp35-abi3-win_amd64.whl (1.6 MB)\n",
      "Installing collected packages: pycryptodome\n",
      "Successfully installed pycryptodome-3.10.1\n",
      "Note: you may need to restart the kernel to use updated packages.\n"
     ]
    }
   ],
   "source": [
    "pip install pycryptodome"
   ]
  },
  {
   "cell_type": "markdown",
   "metadata": {},
   "source": [
    "# 1.Hệ mật RSA với n=512 bits\n",
    "*n=512 bist mà n = q*p nên ta chọn 2 số nguyên tố p, q với độ lớn 256 bits*"
   ]
  },
  {
   "cell_type": "code",
   "execution_count": 24,
   "metadata": {},
   "outputs": [
    {
     "name": "stdout",
     "output_type": "stream",
     "text": [
      "Số lượng bit  512\n",
      "\n",
      "Số nguyên tố ngẫu nhiên p 256 bits:  110234321493441500860728003021170261196866781697667183826999919256780291035969\n",
      "\n",
      "Số nguyên tố ngẫu nhiên q 256 bits:  84288784465445306960735223230432224883826108415777486133341001364991343090281\n",
      "\n",
      "n=p*q= 9291516965055295687808968558280329649382710101691658924748736696103294240327670859066348095459696130071751304647742511045457651250613456539568071385317289\n",
      "\n",
      "PHI=(p-1)(q-1)= 9291516965055295687808968558280329649382710101691658924748736696103294240327476335960389208651874666845499702161661818155344206580653115618946299751191040\n",
      "\n",
      "e= 8076685072431090443810614739405437847353027488341556727400091337611640867920392194785627390166820083776270568990459483704390921047845479925388255987435533\n",
      "d= 3267522261125386338464696840793222907040758785175899892703522659835973863209812890813262396500499261287586285104509958838529029044455243018610867540802757\n",
      "\n",
      "Khóa công khai (n,e)\n",
      "n = 9291516965055295687808968558280329649382710101691658924748736696103294240327670859066348095459696130071751304647742511045457651250613456539568071385317289 \n",
      "e = 8076685072431090443810614739405437847353027488341556727400091337611640867920392194785627390166820083776270568990459483704390921047845479925388255987435533\n",
      "-----------------\n",
      "Khóa bí mật d\n",
      "d = 3267522261125386338464696840793222907040758785175899892703522659835973863209812890813262396500499261287586285104509958838529029044455243018610867540802757\n",
      "\n",
      "Bản tin là: Khanh-18020699\n",
      "\n",
      "Bản mã RSA: 1659819722154018481181118685763890817306619728717198320759333340271881993154527164557450786039945199437195139009461492200545240301547616369436380211399072\n",
      "\n",
      "Giải mã RSA: 1529450602695111365326106640398649 tương đương bản tin: Khanh-18020699\n"
     ]
    }
   ],
   "source": [
    "import Crypto.Util.number\n",
    "from math import gcd as bltin_gcd\n",
    "from random import randint\n",
    "from Crypto.Util.number import bytes_to_long, long_to_bytes\n",
    "import sys\n",
    "\n",
    "bits = 512\n",
    "\n",
    "#if (len(sys.argv)>1):\n",
    "        #bits=int(sys.argv[1])\n",
    "\n",
    "print (\"Số lượng bit \",bits)\n",
    "# Số n có độ dài 512 bits mà N=q.p nên sẽ chọn q và p có độ dài 256 bits\n",
    "# Khóa công khai (n,e) khóa bí mật d\n",
    "bitsQP = int(bits/2)\n",
    "\n",
    "p=Crypto.Util.number.getPrime(bitsQP, randfunc=Crypto.Random.get_random_bytes)\n",
    "print (\"\\nSố nguyên tố ngẫu nhiên p 256 bits: \",p)\n",
    "\n",
    "q=Crypto.Util.number.getPrime(bitsQP, randfunc=Crypto.Random.get_random_bytes)\n",
    "print (\"\\nSố nguyên tố ngẫu nhiên q 256 bits: \",q)\n",
    "\n",
    "n=p*q\n",
    "\n",
    "print (\"\\nn=p*q=\",n)\n",
    "\n",
    "PHI=(p-1)*(q-1)\n",
    "\n",
    "print (\"\\nPHI=(p-1)(q-1)=\",PHI)\n",
    "\n",
    "#Tính e ngẫu nhiên\n",
    "e = randint(1, PHI)\n",
    "while bltin_gcd(PHI, e) != 1:\n",
    "\te = randint(1, PHI)\n",
    "\n",
    "print (\"\\ne=\",e)\n",
    "# Tính d\n",
    "d=Crypto.Util.number.inverse(e,PHI)\n",
    "print (\"d=\",d)\n",
    "\n",
    "#print (\"\\nSố lượng chữ số (p): \",len(str(p)))\n",
    "#print (\"Số lượng chữ số (n): \",len(str(n)))\n",
    "print(\"\\nKhóa công khai (n,e)\\n\"+\"n =\",n,\"\\ne =\",e)\n",
    "print(\"-----------------\")\n",
    "print(\"Khóa bí mật d\\n\"+\"d =\",d)\n",
    "\n",
    "# Mã hóa,giải mã\n",
    "msg=\"Khanh-18020699\"\n",
    "print(\"\\nBản tin là:\",msg)\n",
    "m = bytes_to_long(msg.encode('utf-8'))\n",
    "enc=pow(m,e,n)\n",
    "dec = pow(enc,d,n)\n",
    "m1 = long_to_bytes(dec)\n",
    "m1 = m1.decode('utf-8')\n",
    "\n",
    "print(\"\\nBản mã RSA:\", enc)\n",
    "print(\"\\nGiải mã RSA:\",dec,\"tương đương bản tin:\",m1)\n",
    "\n",
    "\n",
    "\n"
   ]
  },
  {
   "cell_type": "markdown",
   "metadata": {},
   "source": [
    "# 2.Hệ mật Elgamal với p=256 bits\n",
    "*Code tìm phần tử nguyên thủy được gửi ở file PrimitiveRoots đính kèm*"
   ]
  },
  {
   "cell_type": "code",
   "execution_count": 26,
   "metadata": {},
   "outputs": [
    {
     "name": "stdout",
     "output_type": "stream",
     "text": [
      "Số bit yêu cầu của bài là: 256\n",
      "\n",
      "Khóa công khai (p,alpha,beta)\n",
      "p = 59169018583258959826490846615237125330837807713332135522858277102244488113243 \n",
      "alpha = 2 \n",
      "beta = 31805770033106868616533703154959599233251028616422888461040050420263550126833\n",
      "-----------------\n",
      "Khóa bí mật a\n",
      "a = 5090\n",
      "\n",
      "Bản tin là: Khanh-18020699\n",
      "\n",
      "Bản mã Elgamal: \n",
      "y1 = 52884356218756933244968488824686918756140474712968241638832094507932087961547 \n",
      "y2 = 53422535749000096734535444471048830297736575925372007926333902585389438370905\n",
      "\n",
      "Giải mã Elgamal: 1529450602695111365326106640398649 tương đương bản tin: Khanh-18020699\n"
     ]
    }
   ],
   "source": [
    "import Crypto.Util.number\n",
    "from Crypto.Util.number import bytes_to_long, long_to_bytes\n",
    "from random import randint\n",
    "\n",
    "bits = 256\n",
    "print(\"Số bit yêu cầu của bài là:\",bits)\n",
    "# Khóa công khai (p, alpha, beta), khóa bí mật a\n",
    "p=Crypto.Util.number.getPrime(bits, randfunc=Crypto.Random.get_random_bytes)\n",
    "\"\"\"alpha là phần tử nguyên thủy theo mod  p nhưng với bài tập này số p quá lớn\n",
    "máy tính của em k đáp ứng được việc tìm phần tử nguyên thủy nên em đã chọn một số \n",
    "bất kì làm phần tử nguyên thùy. Code để tìm phần tử nguyên thủy với các số nhỏ hơn\n",
    "được gửi ở file primitiveRoots.py đính kèm\"\"\"\n",
    "alpha = 2\n",
    "#Chọn số a\n",
    "a = 5090\n",
    "beta = pow(alpha, a, p)\n",
    "print(\"\\nKhóa công khai (p,alpha,beta)\\n\"+\"p =\",p,\"\\nalpha =\",alpha,\"\\nbeta =\",beta)\n",
    "print(\"-----------------\")\n",
    "print(\"Khóa bí mật a\\n\"+\"a =\",a)\n",
    "#Tìm số k thuộc Zp-1\n",
    "k = randint(0, p-2)\n",
    "\n",
    "#Tiến hành mã hóa\n",
    "msg=\"Khanh-18020699\"\n",
    "print(\"\\nBản tin là:\",msg)\n",
    "m = bytes_to_long(msg.encode('utf-8'))\n",
    "y1 = pow(alpha, k, p)\n",
    "y2 = (pow(beta, k, p) * (m%p)) % p\n",
    "#Tiến hành giải mã\n",
    "decipher = (y2*Crypto.Util.number.inverse(pow(y1,a,p),p))%p\n",
    "m1 = long_to_bytes(decipher)\n",
    "m1 = m1.decode('utf-8')\n",
    "print(\"\\nBản mã Elgamal:\",\"\\ny1 =\",y1,\"\\ny2 =\",y2)\n",
    "print(\"\\nGiải mã Elgamal:\",decipher,\"tương đương bản tin:\",m1)\n",
    "\n"
   ]
  },
  {
   "cell_type": "markdown",
   "metadata": {},
   "source": [
    "# 3.Một số hệ mật trên đường cong Eliptic\n",
    "## 3.1 Hệ mã khóa công khai EC-ElGamal với p = 50-160 bits\n",
    "*Chọn p = 64 bits*"
   ]
  },
  {
   "cell_type": "code",
   "execution_count": 7,
   "metadata": {},
   "outputs": [
    {
     "name": "stdout",
     "output_type": "stream",
     "text": [
      "Collecting libnumNote: you may need to restart the kernel to use updated packages.\n",
      "  Using cached libnum-1.7.1-py3-none-any.whl (14 kB)\n",
      "Installing collected packages: libnum\n",
      "Successfully installed libnum-1.7.1\n",
      "\n"
     ]
    }
   ],
   "source": [
    "pip install libnum"
   ]
  },
  {
   "cell_type": "code",
   "execution_count": 20,
   "metadata": {},
   "outputs": [
    {
     "name": "stdout",
     "output_type": "stream",
     "text": [
      "Số bit yêu cầu của bài là: 64\n",
      "\n",
      "Thu được đường cong y^2 = x^3 + 50 x + 90 mod( 13286501256986520683 )\n"
     ]
    }
   ],
   "source": [
    "import libnum\n",
    "import Crypto.Util.number\n",
    "from random import randint\n",
    "bits = 64\n",
    "print(\"Số bit yêu cầu của bài là:\",bits)\n",
    "# Chọn p,a,b\n",
    "p = Crypto.Util.number.getPrime(bits, randfunc=Crypto.Random.get_random_bytes)\n",
    "# y^2 = x^3 + 50x + 90\n",
    "a = 50\n",
    "b = 90\n",
    "print(\"\\nThu được đường cong y^2 = x^3 +\",a,\"x +\",b,\"mod(\",p,\")\")\n",
    "curve = libnum.ecc.Curve(a, b, p)"
   ]
  },
  {
   "cell_type": "code",
   "execution_count": 21,
   "metadata": {},
   "outputs": [
    {
     "name": "stdout",
     "output_type": "stream",
     "text": [
      "[(1, 10024023153381986941), (1, 3262478103604533742), (3, 2274448176718388549), (3, 11012053080268132134), (4, 7514041097681229696), (4, 5772460159305290987), (6, 12075357424654178220), (6, 1211143832332342463), (8, 2415137090457091666), (8, 10871364166529429017), (9, 3499066946172919457), (9, 9787434310813601226), (10, 12169118739516182876), (10, 1117382517470337807), (11, 1003570019018222044), (11, 12282931237968298639), (13, 5053624843541262094), (13, 8232876413445258589), (19, 11068526471790018060), (19, 2217974785196502623), (21, 1534336630332921124), (21, 11752164626653599559), (24, 12071178356955118669), (24, 1215322900031402014), (25, 3774158471589418382), (25, 9512342785397102301), (28, 11063176933797852350), (28, 2223324323188668333), (30, 1356831914979641729), (30, 11929669342006878954), (33, 12696847568921914399), (33, 589653688064606284), (34, 5477036812257449310), (34, 7809464444729071373), (35, 12835853620186373413), (35, 450647636800147270), (36, 381289366655769575), (36, 12905211890330751108), (42, 10942336775303327791), (42, 2344164481683192892), (43, 6173023714511912788), (43, 7113477542474607895), (44, 335149855445518251), (44, 12951351401541002432), (45, 11284099681657580762), (45, 2002401575328939921), (49, 13218397962972630150), (49, 68103294013890533), (51, 1112299739827040803), (51, 12174201517159479880), (53, 12143371360904189408), (53, 1143129896082331275), (54, 7924559592312999842), (54, 5361941664673520841), (55, 2457300612371750356), (55, 10829200644614770327), (56, 4899085305956423103), (56, 8387415951030097580), (58, 5603883059056041506), (58, 7682618197930479177), (60, 4722017342734030743), (60, 8564483914252489940), (62, 1501974268938612707), (62, 11784526988047907976), (64, 11792140872501615676), (64, 1494360384484905007), (66, 13281297710885771313), (66, 5203546100749370), (68, 9188037361344758574), (68, 4098463895641762109), (71, 6986551292233540113), (71, 6299949964752980570), (72, 8474824416071051423), (72, 4811676840915469260), (73, 8005706920629122270), (73, 5280794336357398413), (74, 11569934312156639335), (74, 1716566944829881348), (75, 6105213169702524447), (75, 7181288087283996236), (76, 2776551558575561090), (76, 10509949698410959593), (78, 3763223936113565262), (78, 9523277320872955421), (80, 8265231847812549737), (80, 5021269409173970946), (81, 12622397310428941804), (81, 664103946557578879), (82, 10705188916299906084), (82, 2581312340686614599), (84, 5013111852132658644), (84, 8273389404853862039), (88, 8915016523957566014), (88, 4371484733028954669), (89, 7715124418818936807), (89, 5571376838167583876), (90, 436135562478304715), (90, 12850365694508215968), (93, 10289074752743594984), (93, 2997426504242925699), (96, 5401316011269858898), (96, 7885185245716661785), (100, 535934607975806210), (100, 12750566649010714473)]\n"
     ]
    }
   ],
   "source": [
    "# Hiển thị 100 điểm đầu tiên\n",
    "P100=curve.find_points_in_range(1,100)\n",
    "print(P100)"
   ]
  },
  {
   "cell_type": "code",
   "execution_count": 22,
   "metadata": {},
   "outputs": [
    {
     "name": "stdout",
     "output_type": "stream",
     "text": [
      "\n",
      "Danh sách 2 điểm bất kì co hoành độ bằng nhau:\n",
      " [(8982116106170209673, 6248507893157819346), (8982116106170209673, 7037993363828701337)]\n"
     ]
    }
   ],
   "source": [
    "#Tìm 2 điểm có hoành độ bằng nhau ngẫu nhiên\n",
    "P = curve.find_points_rand(1)\n",
    "P1 = list(P[0])\n",
    "print(\"\\nDanh sách 2 điểm bất kì co hoành độ bằng nhau:\\n\",P1)"
   ]
  },
  {
   "cell_type": "code",
   "execution_count": 27,
   "metadata": {},
   "outputs": [
    {
     "name": "stdout",
     "output_type": "stream",
     "text": [
      "\n",
      "Bên A thiết lập khóa công khai (E,Fp,P,B) và khóa riêng s\n",
      "E: y^2 = x^3 + 5090 x + 90\n",
      "Fp với p = 59169018583258959826490846615237125330837807713332135522858277102244488113243\n",
      "P = (8982116106170209673, 6248507893157819346)\n",
      "B = (6296231587607976334, 6444252905933215081)\n",
      "Khóa riêng s =  9050\n",
      "\n",
      "Bên B chọn bản tin như M thuộc đường cong E,chọn ngẫu nhiên số nguyên k bí mật\n",
      "Điểm M =  (53, 12143371360904189408)\n",
      "Bên B gửi bản mã cho bên A: ( (7076067865021852159, 1028111379780784791) , (8130369176882573503, 1507206533739433488) )\n",
      "\n",
      "Bên A giải mã thu được điểm bằng điểm M =  (53, 12143371360904189408)\n"
     ]
    }
   ],
   "source": [
    "#Chọn điểm P tùy ý (Ở bài này chọn điểm P là điểm thứ nhất trong 2 điểm vừa tìm được bên trên)\n",
    "#Chọn s làm khóa riêng\n",
    "print(\"\\nBên A thiết lập khóa công khai (E,Fp,P,B) và khóa riêng s\")\n",
    "P = P1[0]\n",
    "s = 9050\n",
    "## B = sP\n",
    "B = curve.power(P, s)\n",
    "print(\"E: y^2 = x^3 +\",a,\"x +\",b)\n",
    "print(\"Fp với p =\",p)\n",
    "print(\"P =\",P)\n",
    "print(\"B =\",B)\n",
    "print(\"Khóa riêng s = \", s)\n",
    "# Chọn bản tin như điểm M thuộc E, chọn ngẫu nhiên số nguyên k bí mật\n",
    "print(\"\\nBên B chọn bản tin như M thuộc đường cong E,chọn ngẫu nhiên số nguyên k bí mật\")\n",
    "M = P100[50]\n",
    "k = 9030\n",
    "print(\"Điểm M = \",M)\n",
    "\n",
    "# Tiến hành mã hóa\n",
    "M1 = curve.power(P, k) #M1=kP\n",
    "M2 = curve.add(M, curve.power(B, k)) #M2=M+kB\n",
    "print(\"Bên B gửi bản mã cho bên A: (\",M1,\",\",M2,\")\")\n",
    "## Tiến hành giải mã M2-sM1\n",
    "\n",
    "MD1 = curve.power(M1, s)\n",
    "# Tính điểm đối của điêm MD1\n",
    "MD1_2 = (MD1[0], -MD1[1])\n",
    "decipher = curve.add(M2, MD1_2)\n",
    "print(\"\\nBên A giải mã thu được điểm bằng điểm M = \",decipher)\n"
   ]
  },
  {
   "cell_type": "markdown",
   "metadata": {},
   "source": [
    "## 3.2 Hệ mã hóa Massey-Omura với p = 50 - 160 bit\n",
    "*Với số bit lớn mất nhiều thời gian tính toán để thuận tiện trong demo chọn p=16bits*"
   ]
  },
  {
   "cell_type": "code",
   "execution_count": 1,
   "metadata": {},
   "outputs": [
    {
     "name": "stdout",
     "output_type": "stream",
     "text": [
      "Số bit yêu cầu của bài là: 16\n",
      "\n",
      "Thu được đường cong y^2 = x^3 + 50 x + 90 mod( 47221 )\n"
     ]
    }
   ],
   "source": [
    "import libnum\n",
    "import Crypto.Util.number\n",
    "from random import randint\n",
    "\n",
    "bits = 16\n",
    "print(\"Số bit yêu cầu của bài là:\", bits)\n",
    "# Chọn p,a,b\n",
    "p = Crypto.Util.number.getPrime(bits, randfunc=Crypto.Random.get_random_bytes)\n",
    "a = 50\n",
    "b = 90\n",
    "print(\"\\nThu được đường cong y^2 = x^3 +\",a,\"x +\",b,\"mod(\",p,\")\")\n",
    "curve = libnum.ecc.Curve(a, b, p)"
   ]
  },
  {
   "cell_type": "code",
   "execution_count": 2,
   "metadata": {},
   "outputs": [
    {
     "name": "stdout",
     "output_type": "stream",
     "text": [
      "[(5, 21546), (5, 25675), (7, 46437), (7, 784), (10, 24110), (10, 23111), (12, 39929), (12, 7292), (17, 46641), (17, 580), (19, 44630), (19, 2591), (22, 31444), (22, 15777), (23, 30917), (23, 16304), (24, 38577), (24, 8644), (26, 22313), (26, 24908), (29, 9976), (29, 37245), (35, 3977), (35, 43244), (37, 6534), (37, 40687), (38, 31696), (38, 15525), (39, 36288), (39, 10933), (40, 19382), (40, 27839), (41, 41632), (41, 5589), (51, 18854), (51, 28367), (59, 31749), (59, 15472), (61, 19597), (61, 27624), (62, 33153), (62, 14068), (65, 27350), (65, 19871), (66, 25257), (66, 21964), (67, 22671), (67, 24550), (68, 47035), (68, 186), (69, 814), (69, 46407), (71, 4306), (71, 42915), (74, 31770), (74, 15451), (76, 6444), (76, 40777), (77, 15245), (77, 31976), (78, 13341), (78, 33880), (79, 19217), (79, 28004), (81, 1363), (81, 45858), (83, 42241), (83, 4980), (85, 8329), (85, 38892), (86, 31836), (86, 15385), (87, 47178), (87, 43), (88, 8518), (88, 38703), (90, 21540), (90, 25681), (91, 4666), (91, 42555), (94, 15477), (94, 31744), (95, 18475), (95, 28746), (96, 21132), (96, 26089), (97, 30764), (97, 16457), (98, 6659), (98, 40562), (99, 30944), (99, 16277), (100, 24166), (100, 23055)]\n"
     ]
    }
   ],
   "source": [
    "# Hiển thị 100 điểm đầu tiên\n",
    "P100=curve.find_points_in_range(1,100)\n",
    "print(P100)"
   ]
  },
  {
   "cell_type": "code",
   "execution_count": 3,
   "metadata": {},
   "outputs": [
    {
     "name": "stdout",
     "output_type": "stream",
     "text": [
      "Hai bên A và B thống nhất với nhau đường cong E trên trường Fp: \n",
      "E: y^2 = x^3 + 50 x + 90 \n",
      "Fp với p = 47221\n",
      "N =  47390\n",
      "\n",
      "Bên A Tính M1=(mA)M rồi gửi cho bên B: \n",
      "M = (69, 814) \n",
      "mA = 5683 \n",
      "M1 = (15193, 12685)\n",
      "\n",
      "Bên B nhận M1 chọn mB thỏa mãn gcd(mB,N) = 1. Tính M2=(mB)M1 rồi gửi cho bên A: \n",
      "M1 = (15193, 12685) \n",
      "mB = 56843 \n",
      "M2 = (41793, 23167)\n",
      "\n",
      "Bên A nhận M2 tính mA^-1 thuộc ZN. Tính M3=(mA^-1)M2 rồi gửi cho bên B: \n",
      "M2 = (41793, 23167) \n",
      "mA^-1 = 5487 \n",
      "M3 = (28554, 46230)\n",
      "\n",
      "Bên B nhận M3 tính mB^-1 thuộc ZN. Tính M4=(mB^-1)M3 rồi gửi cho bên B: \n",
      "M3 = (28554, 46230) \n",
      "mB^-1 = 44357 \n",
      "M4 = (69, 814) \n",
      "Điểm M ban đầu: (69, 814)\n"
     ]
    }
   ],
   "source": [
    "N = 1\n",
    "for x in range(p):\n",
    "    for y in range(p):\n",
    "        if (y*y - x*x*x - a*x -b) % p == 0:\n",
    "            N = N + 1\n",
    "\n",
    "print(\"Hai bên A và B thống nhất với nhau đường cong E trên trường Fp:\",\"\\nE: y^2 = x^3 +\",a,\"x +\",b,\"\\nFp với p =\",p)\n",
    "#Bên A Chọn bản tin như điểm M thuộc đường cong E, mà số nguyên bí mật mA thỏa mãn gcd(mA,N) = 1\n",
    "#N là số điểm của đường cong. Nhưng với số bits lớn việc tính tổng số điểm mất nhiều thời gian,phức tạp, phần cứng máy tính chưa đảm bảo\n",
    "# ==> Để thuận tiện trong demo chọn p khoảng 16bit\n",
    "#N = p\n",
    "print(\"N = \",N)\n",
    "# Bên A Tính M1=(mA)M rồi gửi cho bên B\n",
    "M = P100[50]\n",
    "mA = 5683 #Chọn mA là số nguyên tố\n",
    "M1=curve.power(M,mA)\n",
    "print(\"\\nBên A Tính M1=(mA)M rồi gửi cho bên B: \\nM =\",M,\"\\nmA =\",mA,\"\\nM1 =\",M1)\n",
    "# Bên B nhận M1 chọn mB thỏa mãn gcd(mB,N) = 1. Tính M2=(mB)M1 rồi gửi cho bên A\n",
    "mB = 56843 #Chọn mB là số nguyên tố\n",
    "M2=curve.power(M1,mB)\n",
    "print(\"\\nBên B nhận M1 chọn mB thỏa mãn gcd(mB,N) = 1. Tính M2=(mB)M1 rồi gửi cho bên A: \\nM1 =\",M1,\"\\nmB =\",mB,\"\\nM2 =\",M2)\n",
    "# Bên A nhận M2 tính mA^-1 thuộc ZN. Tính M3=(mA^-1)M2 rồi gửi cho bên B\n",
    "mA1 = libnum.invmod(mA,N)\n",
    "M3=curve.power(M2,mA1)\n",
    "print(\"\\nBên A nhận M2 tính mA^-1 thuộc ZN. Tính M3=(mA^-1)M2 rồi gửi cho bên B: \\nM2 =\",M2,\"\\nmA^-1 =\",mA1,\"\\nM3 =\",M3)\n",
    "# Bên B nhận M3 tính mB^-1 thuộc ZN. Tính M4=(mb^-1)M3 lúc này M4=M1\n",
    "mB1 = libnum.invmod(mB,N)\n",
    "M4=curve.power(M3,mB1)\n",
    "print(\"\\nBên B nhận M3 tính mB^-1 thuộc ZN. Tính M4=(mB^-1)M3 rồi gửi cho bên B: \\nM3 =\",M3,\"\\nmB^-1 =\",mB1,\"\\nM4 =\",M4,\"\\nĐiểm M ban đầu:\",M)"
   ]
  },
  {
   "cell_type": "code",
   "execution_count": 4,
   "metadata": {},
   "outputs": [
    {
     "name": "stdout",
     "output_type": "stream",
     "text": [
      "Giải mã thành công...!\n"
     ]
    }
   ],
   "source": [
    "if M == M4:\n",
    "    print(\"Giải mã thành công...!\")"
   ]
  },
  {
   "cell_type": "code",
   "execution_count": null,
   "metadata": {},
   "outputs": [],
   "source": []
  }
 ],
 "metadata": {
  "kernelspec": {
   "display_name": "Python 3",
   "language": "python",
   "name": "python3"
  },
  "language_info": {
   "codemirror_mode": {
    "name": "ipython",
    "version": 3
   },
   "file_extension": ".py",
   "mimetype": "text/x-python",
   "name": "python",
   "nbconvert_exporter": "python",
   "pygments_lexer": "ipython3",
   "version": "3.8.5"
  }
 },
 "nbformat": 4,
 "nbformat_minor": 4
}
