{
 "cells": [
  {
   "cell_type": "code",
   "execution_count": 2,
   "metadata": {},
   "outputs": [
    {
     "name": "stdout",
     "output_type": "stream",
     "text": [
      "Collecting pycryptodome\n",
      "  Using cached pycryptodome-3.10.1-cp35-abi3-win_amd64.whl (1.6 MB)\n",
      "Installing collected packages: pycryptodome\n",
      "Successfully installed pycryptodome-3.10.1\n",
      "Note: you may need to restart the kernel to use updated packages.\n"
     ]
    }
   ],
   "source": [
    "pip install pycryptodome"
   ]
  },
  {
   "cell_type": "markdown",
   "metadata": {},
   "source": [
    "# 1.Hệ mật RSA với n=512 bits\n",
    "*n=512 bist mà n = q*p nên ta chọn 2 số nguyên tố p, q với độ lớn 256 bits*"
   ]
  },
  {
   "cell_type": "code",
   "execution_count": 1,
   "metadata": {},
   "outputs": [
    {
     "name": "stdout",
     "output_type": "stream",
     "text": [
      "Số lượng bit  512\n",
      "\n",
      "Số nguyên tố ngẫu nhiên p 256 bits:  104391037220545269655017901501771989230062540038051865489333648564914721932029\n",
      "\n",
      "Số nguyên tố ngẫu nhiên q 256 bits:  101098145875710077181226976583687979322631497995951727808736156072178834314861\n",
      "\n",
      "n=p*q= 10553740309039365912079135913118010149951605310731606444973537436175384325048641956798824179545092156006929773562512076652098457419426599809694736426582969\n",
      "\n",
      "PHI=(p-1)(q-1)= 10553740309039365912079135913118010149951605310731606444973537436175384325048436467615727924198255911128844313593959382614064453826128530005057642870336080\n",
      "\n",
      "e= 1323665049108698882760948111473223429436145338876536192229968849734819447083697376084304188184663962957317902625968087321182551596609638055706148410645783\n",
      "d= 895841210202242668760681760382036460096264806386592685789177652853012844365455073138886187313169372909358802858706818894646423888398588748391495544616807\n",
      "\n",
      "Khóa công khai (n,e)\n",
      "n = 10553740309039365912079135913118010149951605310731606444973537436175384325048641956798824179545092156006929773562512076652098457419426599809694736426582969 \n",
      "e = 1323665049108698882760948111473223429436145338876536192229968849734819447083697376084304188184663962957317902625968087321182551596609638055706148410645783\n",
      "-----------------\n",
      "Khóa bí mật d\n",
      "d = 895841210202242668760681760382036460096264806386592685789177652853012844365455073138886187313169372909358802858706818894646423888398588748391495544616807\n",
      "\n",
      "Bản tin là: Khanh-18020699\n",
      "\n",
      "Bản mã RSA: 3998869244445983446127784600878054034888988262234118603517141002829275565564516379813381503086820413334474484853613752003043528665281053590563472420336903\n",
      "\n",
      "Giải mã RSA: 1529450602695111365326106640398649 tương đương bản tin: Khanh-18020699\n"
     ]
    }
   ],
   "source": [
    "import Crypto.Util.number\n",
    "from math import gcd as bltin_gcd\n",
    "from random import randint\n",
    "from Crypto.Util.number import bytes_to_long, long_to_bytes\n",
    "import sys\n",
    "#Crypto.Util.number.getPrime là hàm tạo số nguyên tố ngẫu nhiên với số bits theo yêu cầu\n",
    "#Crypto.Util.number.inverse hàm tính nghịch đảo modunlo\n",
    "#bytes_to_long chuyển đổi bytes thành số nguyên dài\n",
    "#long_to_bytes ngược lại\n",
    "bits = 512\n",
    "\n",
    "print (\"Số lượng bit \",bits)\n",
    "# Số n có độ dài 512 bits mà N=q.p nên sẽ chọn q và p có độ dài 256 bits\n",
    "# Khóa công khai (n,e) khóa bí mật d\n",
    "bitsQP = int(bits/2)\n",
    "\n",
    "p=Crypto.Util.number.getPrime(bitsQP, randfunc=Crypto.Random.get_random_bytes)\n",
    "print (\"\\nSố nguyên tố ngẫu nhiên p 256 bits: \",p)\n",
    "\n",
    "q=Crypto.Util.number.getPrime(bitsQP, randfunc=Crypto.Random.get_random_bytes)\n",
    "print (\"\\nSố nguyên tố ngẫu nhiên q 256 bits: \",q)\n",
    "\n",
    "n=p*q\n",
    "\n",
    "print (\"\\nn=p*q=\",n)\n",
    "\n",
    "PHI=(p-1)*(q-1)\n",
    "\n",
    "print (\"\\nPHI=(p-1)(q-1)=\",PHI)\n",
    "\n",
    "#Tính e ngẫu nhiên\n",
    "e = randint(1, PHI)\n",
    "while bltin_gcd(PHI, e) != 1:\n",
    "\te = randint(1, PHI)\n",
    "\n",
    "#e=65537\n",
    "print (\"\\ne=\",e)\n",
    "# Tính d\n",
    "d=Crypto.Util.number.inverse(e,PHI)\n",
    "print (\"d=\",d)\n",
    "\n",
    "#print (\"\\nSố lượng chữ số (p): \",len(str(p)))\n",
    "#print (\"Số lượng chữ số (n): \",len(str(n)))\n",
    "print(\"\\nKhóa công khai (n,e)\\n\"+\"n =\",n,\"\\ne =\",e)\n",
    "print(\"-----------------\")\n",
    "print(\"Khóa bí mật d\\n\"+\"d =\",d)\n",
    "\n",
    "# Mã hóa,giải mã\n",
    "msg=\"Khanh-18020699\"\n",
    "print(\"\\nBản tin là:\",msg)\n",
    "m = bytes_to_long(msg.encode('utf-8'))\n",
    "enc=pow(m,e,n)\n",
    "dec = pow(enc,d,n)\n",
    "m1 = long_to_bytes(dec)\n",
    "m1 = m1.decode('utf-8')\n",
    "\n",
    "print(\"\\nBản mã RSA:\", enc)\n",
    "print(\"\\nGiải mã RSA:\",dec,\"tương đương bản tin:\",m1)\n",
    "\n",
    "\n",
    "\n"
   ]
  },
  {
   "cell_type": "markdown",
   "metadata": {},
   "source": [
    "# 2.Hệ mật Elgamal với p=256 bits\n",
    "*Code tìm phần tử nguyên thủy được gửi ở file PrimitiveRoots đính kèm*"
   ]
  },
  {
   "cell_type": "code",
   "execution_count": 2,
   "metadata": {},
   "outputs": [
    {
     "name": "stdout",
     "output_type": "stream",
     "text": [
      "Số bit yêu cầu của bài là: 256\n",
      "\n",
      "Khóa công khai (p,alpha,beta)\n",
      "p = 72296682615295439180749851111768484459576070103164569623612952399207957100243 \n",
      "alpha = 42936062180277054219446519911181265457431313756626645738031576989848687099786 \n",
      "beta = 7311515470620176246997608566074360260193994806385085342396286603967265845442\n",
      "-----------------\n",
      "Khóa bí mật a\n",
      "a = 5090\n",
      "\n",
      "Bản tin là: Khanh-18020699\n",
      "\n",
      "Bản mã Elgamal: \n",
      "y1 = 65725873529662245787374954903603939839363472541542548701868428982461311771287 \n",
      "y2 = 21266348760821702972935708331560180675199009777761936405631559827148220017639\n",
      "\n",
      "Giải mã Elgamal: 1529450602695111365326106640398649 tương đương bản tin: Khanh-18020699\n"
     ]
    }
   ],
   "source": [
    "import Crypto.Util.number\n",
    "from Crypto.Util.number import bytes_to_long, long_to_bytes\n",
    "from random import randint\n",
    "\n",
    "\n",
    "# Crypto.Util.number.getPrime là hàm tạo số nguyên tố ngẫu nhiên với số bits theo yêu cầu\n",
    "# Crypto.Util.number.inverse hàm tính nghịch đảo modunlo\n",
    "# bytes_to_long chuyển đổi bytes thành số nguyên dài\n",
    "# long_to_bytes ngược lại\n",
    "##Hàm tính một phần tử sinh (phần tử nguyên thủy) bất kì với số p lớn\n",
    "def find_primitive_root(p):\n",
    "    if p == 2:\n",
    "        return 1\n",
    "    p1 = 2\n",
    "    p2 = (p - 1) // p1\n",
    "    while (1):\n",
    "        g = randint(2, p - 1)\n",
    "        if not (pow(g, (p - 1) // p1, p) == 1):\n",
    "            if not pow(g, (p - 1) // p2, p) == 1:\n",
    "                return g\n",
    "\n",
    "\n",
    "bits = 256\n",
    "print(\"Số bit yêu cầu của bài là:\", bits)\n",
    "# Khóa công khai (p, alpha, beta), khóa bí mật a\n",
    "p = Crypto.Util.number.getPrime(bits, randfunc=Crypto.Random.get_random_bytes)\n",
    "\"\"\"alpha là phần tử nguyên thủy theo mod  p . Code để tìm tất cả phần tử nguyên thủy với sô p nhỏ gửi ở file primitiveRoots.py đính kèm\"\"\"\n",
    "alpha = find_primitive_root(p)\n",
    "# Chọn số a\n",
    "a = 5090\n",
    "beta = pow(alpha, a, p)\n",
    "print(\"\\nKhóa công khai (p,alpha,beta)\\n\" + \"p =\", p, \"\\nalpha =\", alpha, \"\\nbeta =\", beta)\n",
    "print(\"-----------------\")\n",
    "print(\"Khóa bí mật a\\n\" + \"a =\", a)\n",
    "# Tìm số k thuộc Zp-1\n",
    "k = randint(0, p - 2)\n",
    "\n",
    "# Tiến hành mã hóa\n",
    "msg = \"Khanh-18020699\"\n",
    "print(\"\\nBản tin là:\", msg)\n",
    "m = bytes_to_long(msg.encode('utf-8'))\n",
    "y1 = pow(alpha, k, p)\n",
    "y2 = (pow(beta, k, p) * (m % p)) % p\n",
    "# Tiến hành giải mã\n",
    "decipher = (y2 * Crypto.Util.number.inverse(pow(y1, a, p), p)) % p\n",
    "m1 = long_to_bytes(decipher)\n",
    "m1 = m1.decode('utf-8')\n",
    "print(\"\\nBản mã Elgamal:\", \"\\ny1 =\", y1, \"\\ny2 =\", y2)\n",
    "print(\"\\nGiải mã Elgamal:\", decipher, \"tương đương bản tin:\", m1)\n",
    "\n",
    "\n"
   ]
  },
  {
   "cell_type": "markdown",
   "metadata": {},
   "source": [
    "# 3.Một số hệ mật trên đường cong Eliptic\n",
    "## 3.1 Hệ mã khóa công khai EC-ElGamal với p = 50-160 bits\n",
    "*Chọn p = 160 bits*"
   ]
  },
  {
   "cell_type": "code",
   "execution_count": 7,
   "metadata": {},
   "outputs": [
    {
     "name": "stdout",
     "output_type": "stream",
     "text": [
      "Collecting libnumNote: you may need to restart the kernel to use updated packages.\n",
      "  Using cached libnum-1.7.1-py3-none-any.whl (14 kB)\n",
      "Installing collected packages: libnum\n",
      "Successfully installed libnum-1.7.1\n",
      "\n"
     ]
    }
   ],
   "source": [
    "pip install libnum"
   ]
  },
  {
   "cell_type": "code",
   "execution_count": 8,
   "metadata": {},
   "outputs": [
    {
     "name": "stdout",
     "output_type": "stream",
     "text": [
      "Số bit yêu cầu của bài là: 160\n",
      "\n",
      "Thu được đường cong y^2 = x^3 + 50 x + 90 mod( 1423796467668796331271350545831485086435185061747 )\n"
     ]
    }
   ],
   "source": [
    "import libnum\n",
    "import Crypto.Util.number\n",
    "from random import randint\n",
    "#Crypto.Util.number.getPrime là hàm tạo số nguyên tố ngẫu nhiên với số bits theo yêu cầu\n",
    "bits = 160\n",
    "print(\"Số bit yêu cầu của bài là:\",bits)\n",
    "# Chọn p,a,b\n",
    "p = Crypto.Util.number.getPrime(bits, randfunc=Crypto.Random.get_random_bytes)\n",
    "# y^2 = x^3 + 50x + 90\n",
    "a = 50\n",
    "b = 90\n",
    "print(\"\\nThu được đường cong y^2 = x^3 +\",a,\"x +\",b,\"mod(\",p,\")\")\n",
    "#Tạo đường cong bằng hàm ecc.Curve\n",
    "curve = libnum.ecc.Curve(a, b, p)"
   ]
  },
  {
   "cell_type": "code",
   "execution_count": 9,
   "metadata": {},
   "outputs": [
    {
     "name": "stdout",
     "output_type": "stream",
     "text": [
      "[(6, 271158562002875737633838521103422098981193920435), (6, 1152637905665920593637512024728062987453991141312), (11, 1082390851213959851024669958168566069870618942789), (11, 341405616454836480246680587662919016564566118958), (12, 1018118822878938845695445999205717218981762987505), (12, 405677644789857485575904546625767867453422074242), (15, 283667278753059440115292365582993356387096125579), (15, 1140129188915736891156058180248491730048088936168), (16, 428296726269534098837851052753978756622350687900), (16, 995499741399262232433499493077506329812834373847), (18, 1349313258432771005022346209083196913994575289750), (18, 74483209236025326249004336748288172440609771997), (19, 134996093088735032580160872563458614625704774133), (19, 1288800374580061298691189673268026471809480287614), (23, 1122535471782289520982791708105091267534831481781), (23, 301260995886506810288558837726393818900353579966), (24, 1027657013853643466312772835568855411236607307711), (24, 396139453815152864958577710262629675198577754036), (27, 1122653679654755329298976845583123671747493960175), (27, 301142788014041001972373700248361414687691101572), (32, 409475672488140014547119651648321218115134627070), (32, 1014320795180656316724230894183163868320050434677), (36, 646508240261242569084870729968048281971684620987), (36, 777288227407553762186479815863436804463500440760), (38, 493059514965378633114033753870290874449737518285), (38, 930736952703417698157316791961194211985447543462), (39, 696635010826572559828933045917668786621747265183), (39, 727161456842223771442417499913816299813437796564), (45, 1329379171745869734631837385125431020301000572281), (45, 94417295922926596639513160706054066134184489466), (47, 1381722695958494440749713982310118029209761788472), (47, 42073771710301890521636563521367057225423273275), (50, 303636216576423219306188255139955222241921225765), (50, 1120160251092373111965162290691529864193263835982), (51, 916177059488334494864062982825850099394684026584), (51, 507619408180461836407287563005634987040501035163), (53, 518035301599764863381017956977038600017529972982), (53, 905761166069031467890332588854446486417655088765), (54, 1414379072142299522711883977604998340401102412216), (54, 9417395526496808559466568226486746034082649531), (55, 880542086117108382294349919443399837038648416163), (55, 543254381551687948977000626388085249396536645584), (56, 642225129640155085822415192499332590985586909830), (56, 781571338028641245448935353332152495449598151917), (58, 38349115744588330274737854983797614402153667639), (58, 1385447351924208000996612690847687472033031394108), (60, 275251897928262402297685016128634581449469596744), (60, 1148544569740533928973665529702850504985715465003), (61, 591156404440525473110984016648980226541147067745), (61, 832640063228270858160366529182504859894037994002), (66, 915843329475505562042690059557935970730519637851), (66, 507953138193290769228660486273549115704665423896), (68, 387066633373755129040725391974309111846712547650), (68, 1036729834295041202230625153857175974588472514097), (70, 280288200001886025541471184948325779913810278306), (70, 1143508267666910305729879360883159306521374783441), (71, 597000891440150435619798843038827039485610847683), (71, 826795576228645895651551702792658046949574214064), (74, 967063538900723110056583224593416747421436032561), (74, 456732928768073221214767321238068339013749029186), (80, 35164809769819927062286830366851165909536401598), (80, 1388631657898976404209063715464633920525648660149), (82, 1281089014949071811153403745635069463837635556946), (82, 142707452719724520117946800196415622597549504801), (83, 103963646205333262694449291051615768078967520021), (83, 1319832821463463068576901254779869318356217541726), (85, 457166322879198346761328094251253998146374430203), (85, 966630144789597984510022451580231088288810631544), (92, 1087010929001776590112474566145425990365550857649), (92, 336785538667019741158875979686059096069634204098), (95, 937942485013970601740206672010520894173445907075), (95, 485853982654825729531143873820964192261739154672), (96, 1142567650219435014681610994751847432129762822329), (96, 281228817449361316589739551079637654305422239418), (97, 470711160105356660675625233269832131062088158287), (97, 953085307563439670595725312561652955373096903460), (98, 860370216039317284232657736018055476933895643851), (98, 563426251629479047038692809813429609501289417896), (99, 767195153475784855272572454054182323387097934800), (99, 656601314193011475998778091777302763048087126947)]\n"
     ]
    }
   ],
   "source": [
    "# Hiển thị 100 điểm đầu tiên\n",
    "P100=curve.find_points_in_range(1,100)\n",
    "print(P100)"
   ]
  },
  {
   "cell_type": "code",
   "execution_count": 10,
   "metadata": {},
   "outputs": [
    {
     "name": "stdout",
     "output_type": "stream",
     "text": [
      "\n",
      "Danh sách 2 điểm bất kì co hoành độ bằng nhau:\n",
      " [(334329473195701866191838541998505174359898358466, 534069855028049698884329048259510417976247895674), (334329473195701866191838541998505174359898358466, 889726612640746632387021497571974668458937166073)]\n"
     ]
    }
   ],
   "source": [
    "#Tìm 2 điểm có hoành độ bằng nhau ngẫu nhiên\n",
    "P = curve.find_points_rand(1)\n",
    "P1 = list(P[0])\n",
    "print(\"\\nDanh sách 2 điểm bất kì co hoành độ bằng nhau:\\n\",P1)"
   ]
  },
  {
   "cell_type": "code",
   "execution_count": 11,
   "metadata": {
    "scrolled": true
   },
   "outputs": [
    {
     "name": "stdout",
     "output_type": "stream",
     "text": [
      "\n",
      "Bên A thiết lập khóa công khai (E,Fp,P,B) và khóa riêng s\n",
      "E: y^2 = x^3 + 50 x + 90\n",
      "Fp với p = 1423796467668796331271350545831485086435185061747\n",
      "P = (334329473195701866191838541998505174359898358466, 534069855028049698884329048259510417976247895674)\n",
      "B = (657310580933875312971743987909317310635789928700, 126076331353320555987413341284743747360812990647)\n",
      "Khóa riêng s =  9050\n",
      "\n",
      "Bên B chọn bản tin như M thuộc đường cong E,chọn ngẫu nhiên số nguyên k bí mật\n",
      "Điểm M =  (66, 915843329475505562042690059557935970730519637851)\n",
      "Bên B gửi bản mã cho bên A: ( (804436106854367690088239502959782970783936488871, 784547535543827521574220781460718976387753925535) , (169921158948484697280841668203905557705342366886, 1418031848162796192699844842290101709277409936922) )\n",
      "\n",
      "Bên A giải mã thu được điểm bằng điểm M ban đầu và bằng  (66, 915843329475505562042690059557935970730519637851)\n"
     ]
    }
   ],
   "source": [
    "#Chọn điểm P tùy ý (Ở bài này chọn điểm P là điểm thứ nhất trong 2 điểm vừa tìm được bên trên)\n",
    "#Chọn s làm khóa riêng\n",
    "print(\"\\nBên A thiết lập khóa công khai (E,Fp,P,B) và khóa riêng s\")\n",
    "P = P1[0]\n",
    "s = 9050\n",
    "## B = sP\n",
    "B = curve.power(P, s)\n",
    "print(\"E: y^2 = x^3 +\",a,\"x +\",b)\n",
    "print(\"Fp với p =\",p)\n",
    "print(\"P =\",P)\n",
    "print(\"B =\",B)\n",
    "print(\"Khóa riêng s = \", s)\n",
    "# Chọn bản tin như điểm M thuộc E, chọn ngẫu nhiên số nguyên k bí mật\n",
    "print(\"\\nBên B chọn bản tin như M thuộc đường cong E,chọn ngẫu nhiên số nguyên k bí mật\")\n",
    "M = P100[50]\n",
    "k = 9030\n",
    "print(\"Điểm M = \",M)\n",
    "\n",
    "# Tiến hành mã hóa\n",
    "M1 = curve.power(P, k) #M1=kP\n",
    "M2 = curve.add(M, curve.power(B, k)) #M2=M+kB\n",
    "print(\"Bên B gửi bản mã cho bên A: (\",M1,\",\",M2,\")\")\n",
    "## Tiến hành giải mã M2-sM1\n",
    "\n",
    "MD1 = curve.power(M1, s)\n",
    "# Tính điểm đối của điêm MD1\n",
    "MD1_2 = (MD1[0], -MD1[1])\n",
    "decipher = curve.add(M2, MD1_2)\n",
    "print(\"\\nBên A giải mã thu được điểm bằng điểm M ban đầu và bằng \",decipher)\n"
   ]
  },
  {
   "cell_type": "code",
   "execution_count": 12,
   "metadata": {},
   "outputs": [
    {
     "name": "stdout",
     "output_type": "stream",
     "text": [
      "Giải mã thành công....!\n"
     ]
    }
   ],
   "source": [
    "if M == decipher:\n",
    "    print(\"Giải mã thành công....!\")"
   ]
  },
  {
   "cell_type": "markdown",
   "metadata": {},
   "source": [
    "## 3.2 Hệ mã hóa Massey-Omura với p = 50 - 160 bit\n",
    "*Với số bit lớn mất nhiều thời gian tính toán để thuận tiện trong demo chọn p=16bits*"
   ]
  },
  {
   "cell_type": "code",
   "execution_count": 13,
   "metadata": {},
   "outputs": [
    {
     "name": "stdout",
     "output_type": "stream",
     "text": [
      "Số bit yêu cầu của bài là: 16\n",
      "\n",
      "Thu được đường cong y^2 = x^3 + 50 x + 90 mod( 38261 )\n"
     ]
    }
   ],
   "source": [
    "import libnum\n",
    "import Crypto.Util.number\n",
    "from random import randint\n",
    "#Crypto.Util.number.getPrime là hàm tạo số nguyên tố ngẫu nhiên với số bits theo yêu cầu\n",
    "bits = 16\n",
    "print(\"Số bit yêu cầu của bài là:\", bits)\n",
    "# Chọn p,a,b\n",
    "p = Crypto.Util.number.getPrime(bits, randfunc=Crypto.Random.get_random_bytes)\n",
    "a = 50\n",
    "b = 90\n",
    "print(\"\\nThu được đường cong y^2 = x^3 +\",a,\"x +\",b,\"mod(\",p,\")\")\n",
    "#Tạo đường cong bằng hàm ecc.Curve\n",
    "curve = libnum.ecc.Curve(a, b, p)"
   ]
  },
  {
   "cell_type": "code",
   "execution_count": 14,
   "metadata": {},
   "outputs": [
    {
     "name": "stdout",
     "output_type": "stream",
     "text": [
      "[(4, 18911), (4, 19350), (7, 2908), (7, 35353), (8, 24130), (8, 14131), (16, 8276), (16, 29985), (17, 28218), (17, 10043), (20, 25271), (20, 12990), (23, 17228), (23, 21033), (25, 14273), (25, 23988), (26, 18138), (26, 20123), (27, 22115), (27, 16146), (28, 5545), (28, 32716), (30, 35139), (30, 3122), (31, 19571), (31, 18690), (39, 31523), (39, 6738), (40, 35133), (40, 3128), (42, 23230), (42, 15031), (45, 15294), (45, 22967), (46, 34460), (46, 3801), (48, 29679), (48, 8582), (49, 33570), (49, 4691), (50, 15854), (50, 22407), (58, 8947), (58, 29314), (59, 37955), (59, 306), (62, 26056), (62, 12205), (67, 10014), (67, 28247), (71, 32800), (71, 5461), (73, 29987), (73, 8274), (75, 19360), (75, 18901), (80, 15972), (80, 22289), (81, 10559), (81, 27702), (82, 23012), (82, 15249), (89, 27645), (89, 10616), (90, 2006), (90, 36255), (92, 18753), (92, 19508), (93, 21961), (93, 16300), (96, 31524), (96, 6737), (97, 16749), (97, 21512), (98, 36059), (98, 2202), (99, 4672), (99, 33589)]\n"
     ]
    }
   ],
   "source": [
    "# Hiển thị 100 điểm đầu tiên\n",
    "P100=curve.find_points_in_range(1,100)\n",
    "print(P100)"
   ]
  },
  {
   "cell_type": "code",
   "execution_count": 15,
   "metadata": {},
   "outputs": [
    {
     "name": "stdout",
     "output_type": "stream",
     "text": [
      "Hai bên A và B thống nhất với nhau đường cong E trên trường Fp: \n",
      "E: y^2 = x^3 + 50 x + 90 \n",
      "Fp với p = 38261\n",
      "N =  38202\n",
      "\n",
      "Bên A Tính M1=(mA)M rồi gửi cho bên B: \n",
      "M = (71, 32800) \n",
      "mA = 5683 \n",
      "M1 = (2693, 6443)\n",
      "\n",
      "Bên B nhận M1 chọn mB thỏa mãn gcd(mB,N) = 1. Tính M2=(mB)M1 rồi gửi cho bên A: \n",
      "M1 = (2693, 6443) \n",
      "mB = 56843 \n",
      "M2 = (11594, 38193)\n",
      "\n",
      "Bên A nhận M2 tính mA^-1 thuộc ZN. Tính M3=(mA^-1)M2 rồi gửi cho bên B: \n",
      "M2 = (11594, 38193) \n",
      "mA^-1 = 21847 \n",
      "M3 = (1374, 11809)\n",
      "\n",
      "Bên B nhận M3 tính mB^-1 thuộc ZN. Tính M4=(mB^-1)M3 rồi gửi cho bên B: \n",
      "M3 = (1374, 11809) \n",
      "mB^-1 = 19973 \n",
      "M4 = (71, 32800) \n",
      "Điểm M ban đầu: (71, 32800)\n"
     ]
    }
   ],
   "source": [
    "N = 1\n",
    "for x in range(p):\n",
    "    for y in range(p):\n",
    "        if (y*y - x*x*x - a*x -b) % p == 0:\n",
    "            N = N + 1\n",
    "\n",
    "print(\"Hai bên A và B thống nhất với nhau đường cong E trên trường Fp:\",\"\\nE: y^2 = x^3 +\",a,\"x +\",b,\"\\nFp với p =\",p)\n",
    "#Bên A Chọn bản tin như điểm M thuộc đường cong E, mà số nguyên bí mật mA thỏa mãn gcd(mA,N) = 1\n",
    "#N là số điểm của đường cong. Nhưng với số bits lớn việc tính tổng số điểm mất nhiều thời gian,phức tạp, phần cứng máy tính chưa đảm bảo\n",
    "# ==> Để thuận tiện trong demo chọn p khoảng 16bit\n",
    "#N = p\n",
    "print(\"N = \",N)\n",
    "# Bên A Tính M1=(mA)M rồi gửi cho bên B\n",
    "M = P100[50]\n",
    "mA = 5683 #Chọn mA là số nguyên tố\n",
    "M1=curve.power(M,mA)\n",
    "print(\"\\nBên A Tính M1=(mA)M rồi gửi cho bên B: \\nM =\",M,\"\\nmA =\",mA,\"\\nM1 =\",M1)\n",
    "# Bên B nhận M1 chọn mB thỏa mãn gcd(mB,N) = 1. Tính M2=(mB)M1 rồi gửi cho bên A\n",
    "mB = 56843 #Chọn mB là số nguyên tố\n",
    "M2=curve.power(M1,mB)\n",
    "print(\"\\nBên B nhận M1 chọn mB thỏa mãn gcd(mB,N) = 1. Tính M2=(mB)M1 rồi gửi cho bên A: \\nM1 =\",M1,\"\\nmB =\",mB,\"\\nM2 =\",M2)\n",
    "# Bên A nhận M2 tính mA^-1 thuộc ZN. Tính M3=(mA^-1)M2 rồi gửi cho bên B\n",
    "mA1 = libnum.invmod(mA,N) #Một cách khác để tính nghịch đảo modulo là dùng libnum.invmod()\n",
    "M3=curve.power(M2,mA1)\n",
    "print(\"\\nBên A nhận M2 tính mA^-1 thuộc ZN. Tính M3=(mA^-1)M2 rồi gửi cho bên B: \\nM2 =\",M2,\"\\nmA^-1 =\",mA1,\"\\nM3 =\",M3)\n",
    "# Bên B nhận M3 tính mB^-1 thuộc ZN. Tính M4=(mb^-1)M3 lúc này M4=M1\n",
    "mB1 = libnum.invmod(mB,N)\n",
    "M4=curve.power(M3,mB1)\n",
    "print(\"\\nBên B nhận M3 tính mB^-1 thuộc ZN. Tính M4=(mB^-1)M3 rồi gửi cho bên B: \\nM3 =\",M3,\"\\nmB^-1 =\",mB1,\"\\nM4 =\",M4,\"\\nĐiểm M ban đầu:\",M)"
   ]
  },
  {
   "cell_type": "code",
   "execution_count": 16,
   "metadata": {},
   "outputs": [
    {
     "name": "stdout",
     "output_type": "stream",
     "text": [
      "Giải mã thành công...!\n"
     ]
    }
   ],
   "source": [
    "if M == M4:\n",
    "    print(\"Giải mã thành công...!\")"
   ]
  },
  {
   "cell_type": "code",
   "execution_count": null,
   "metadata": {},
   "outputs": [],
   "source": []
  }
 ],
 "metadata": {
  "kernelspec": {
   "display_name": "Python 3",
   "language": "python",
   "name": "python3"
  },
  "language_info": {
   "codemirror_mode": {
    "name": "ipython",
    "version": 3
   },
   "file_extension": ".py",
   "mimetype": "text/x-python",
   "name": "python",
   "nbconvert_exporter": "python",
   "pygments_lexer": "ipython3",
   "version": "3.8.5"
  }
 },
 "nbformat": 4,
 "nbformat_minor": 4
}
